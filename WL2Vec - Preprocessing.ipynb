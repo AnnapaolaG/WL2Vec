{
 "cells": [
  {
   "cell_type": "markdown",
   "id": "ambient-desperate",
   "metadata": {},
   "source": [
    "# Load Data"
   ]
  },
  {
   "cell_type": "code",
   "execution_count": 2,
   "id": "e116aadf",
   "metadata": {},
   "outputs": [
    {
     "name": "stdout",
     "output_type": "stream",
     "text": [
      "['\\ufeff§.1.*\\n', 'Was der Verfasser unter der Wissenschaftslehre verstehe.\\n', '1. Wenn ich mir vorstelle, es wären alle Wahrheiten, welche nur irgend ein Mensch kennt oder einst gekannt hat, in ein Ganzes vereinigt, z. B. in irgend einem einzigen Buche zusammengeschrieben: so würde ich einen solchen Inbegriff derselben die Summe des ganzen menschlichen Wissens nennen. So klein diese Summe auch wäre, verglichen mit dem ganz unermeßlichen Gebiete aller Wahrheiten, die es an sich gibt, die ihrem größten Theile nach uns völlig unbekannt sind; so wäre sie doch im Verhältnisse zu der Fassungskraft jedes einzelnen Menschen eine sehr große, ja für ihn zu große Summe. Denn sicher ist selbst der fähigste Kopf unter den günstigsten Umständen, und mit dem angestrengtesten Fleiße außer Stande, sich-ich will nicht sagen Alles, sondern auch nur das wahrhaft Wissenswürdige, das jener Inbegriff enthält, das die vereinigte Bemühung aller Menschen bis auf den heutigen Tag entdecket hat, anzueignen. Wir müssen uns deß-halb zu einer Theilung verstehen; wir müssen, da wir ein Jeder bei Weitem nicht Alles, was uns in irgend einem Betrachte wissenswerth scheinen mag, erlernen können, der Eine sich nur auf das Eine, der Andere auf ein Anderes, ein Jeder auf dasjenige verlegen, was nach der Eigenthümlichkeit unserer Verhältnisse für uns das Nöthigste oder das Nützlichste unter dem Nützlichen ist. Sowohl um diese Auswahl des für uns Wissenswürdigsten und die Erlernung desselben uns zu erleichtern, als auch für | manche andere Zwecke dürfte es zuträglich seyn, das gesammte Gebiet des menschlichen Wissens, oder vielmehr jenes der Wahrheit überhaupt in mehre einzelne Theile zu zerlegen, und die einer jeden einzelnen Gattung zugehörigen Wahrheiten, so viele es durch ihre Merkwürdigkeit verdienen, in eigenen Büchern so zusammenzustellen, und nöthigenfalls auch noch mit so viel anderen, zu ihrem Verständnisse oder Beweise dienlichen Sätzen in Verbindung zu bringen, daß sie die größte Faßlichkeit und Ueberzeu-gungskraft erhalten. Es sey mir also erlaubt, jeden Inbegriff von Wahrhei-\\n', '33\\n', 'ten einer gewissen Art, der so beschaffen ist, daß es der uns bekannte und merkwürdige Theil derselben verdient, auf die so eben erwähnte Weise in einem eigenen Buche vorgetragen zu werden, eine Wissenschaft zu nennen. Jenes Buch selbst aber, oder vielmehr ein jedes Buch, welches nur so beschaffen ist, als wäre es von Jemand in der bestimmten Absicht geschrieben, um alle bekannteb und für den Leser merkwürdige11 Wahrheiten einer Wissenschaft darzustellen, wie sie aufs Leichteste verstanden und mit Ue-berzeugung angenommen werden könnten, soll mir ein Lehrbuch dieser Wissenschaft heißen. So werde ich also z. B. den Inbegriff aller Wahrheiten, welche Beschaffenheiten des Raumes aussagen, die Wissenschaft vom Räume oder die Raumwissenschaft (Geometrie) nennen; weil diese Sätze eine eigene Gattung von Wahrheiten bilden, die es unwidersprechlich verdient, daß wir den uns bekannten und für uns merkwürdigen Theil derselben in eigenen Büchern vortragen, und mit Beweisen versehen, die ihnen die möglichste Verständlichkeit und Ueberzeugungskraft gewähren. Dergleichen Bücher selbst werde ich Lehrbücher der Raumwissenschaft nennen.\\n', '2. Ich gestehe selbst, daß die Bedeutungen, die ich den beiden Worten Wissenschaft und Lehrbuch hier gebe, nicht eben die allgemein üblichen sind; allein ich darf auch beisetzen, daß es gar keine allgemein angenommene Bedeutung für diese beiden Worte gebe, und daß ich nicht ermangeln werde, diese Begriffsbestimmungen tiefer unten eigens zu rechtfertigen. Vor der Hand sey es genug, nur noch zwei andere Bedeutungen des Wortes Wissenschaft aus dem Grunde hier in Erwähnung zu bringen, weil ich mich ihrer | wohl selbst an Orten, wo kein Mißverstand zu besorgen ist, bediene. Gar Viele nämhch verstehen unter dem Worte: Wissenschaft nicht eine bloße Summe von Wahrheiten einer gewissen Art, gleichviel in welcher Ordnung sie stehen, sondern sie denken sich unter der Wissenschaft ein Ganzes von Sätzen, in welchem die merkwürdigsten Wahrheiten einer gewissen Art schon so geordnet und mit gewissen anderen dergestalt verbunden vorkommen, wie es bei einer schriftlichen Darstellung derselben in einem Buche geschehen muß, damit der Zweck der leichtesten Auffassung und der festesten Ueberzeugung erreicht werde. In dieser Bedeutung kommt das Wort vor, wenn wir z. B. von einem echt wissenschaftlichen Vortrage sprechen; denn da wollen wir durch den Beisatz: wissenschaftlich ohne Zweifel nur andeuten, daß dieser Vortrag eine solche Ordnung der Sätze\\n', '34\\n', 'befolge, solche Beweise liefere, kurz solche Einrichtungen habe, wie wir sie etwa von einem recht zweckmäßigen Lehrbuche verlangen. Ueberdieß nehmen wir das Wort Wissenschaft zuweilen auch gleichgeltend mit dem Worte Kennmiß, und also in einer Bedeutung, die im Gegensatz mit den beiden bisherigen, welche man objectiv nennt, eine subjective genannt werden könnte. Dieses geschieht, wenn wir z. B. sagen: ich habe Wissenschaft von dieser Sache; denn da heißt Wissenschaft offenbar nur so viel als Kenntniß.\\n', '3. Begreiflich ist es nichts Gleichgültiges, aufweiche Weise wir bei dem Geschäfte der Zerlegung des gesammten menschlichen Wissens, oder vielmehr des gesammten Gebietes der Wahrheit überhaupt, in solche einzelne Theile, denen ich n.° 1. den Namen der Wissenschaften gab, und bei der Darstellung dieser einzelnen Wissenschaften in eigenen Lehrbüchern zu Werke gehen. Denn auch ohne den Werth, welchen das bloße Wissen hat, nur im Geringsten zu überschätzen, muß doch Jeder einsehen, daß es zahllose Uebel gebe, welche nur Unwissenheit und Irrthum über unser Geschlecht verbreiten; und daß wir ohne Vergleich besser und glücklicher auf dieser Erde wären, wenn wir ein Jeder uns gerade diejenigen Kenntnisse beilegen könnten, die uns in unsern Verhältnissen die ersprießlichsten sind. Wäre nun erst das gesammte Gebiet der Wahrheit auf eine zweckmäßige Weise in einzelne Wissenschaften | zerlegt, und wären von jeder derselben gelungene Lehrbücher vorhanden und in hinreichender Anzahl überall anzutreffen: so wäre zwar dadurch der Zweck, von dem ich rede, noch eben nicht erreicht, aber wir wären doch seiner Erreichung, besonders wenn sich auch noch einige andere Einrichtungen hinzugesellten, bedeutend näher gerückt. Denn nun würde a) Jeder, der nur die gehörigen Vorkenntnisse hat, sich über jeden Gegenstand, worüber ihm Belehrung nothwendig ist, am Sichersten und Vollständigsten unterrichten, und Alles, was man bisher darüber weiß, erlernen können. Und b) wenn Alles, was er in jenen Lehrbüchern fände, so faßlich und überzeugend als möglich dargestellt wäre: so stände zu erwarten, daß selbst in denjenigen Theilen des menschlichen Wissens, wo sich die Leidenschaft gegen die Anerkennung der besseren Wahrheit sträubet, namentlich in den Gebieten der Religion und Moral, Zweifel und Irrthümer eine viel seltnere Erscheinung würden. Zumal da c) durch eine allgemeinere Verbreitung des Studiums gewisser Wissenschaften nach Lehrbüchern, die einen höheren Grad der Vollkommenheit hätten, auch eine viel größere Fertigkeit im richtigen Denken hervorgebracht würde. Da endlich d) die Entdeckungen, die wir bisher gemacht haben, wenn sie erst allgemeiner bekannt unter uns würden, uns sicher noch zu\\n', '35\\n']\n"
     ]
    }
   ],
   "source": [
    "with open('WL.txt', 'r', encoding='utf-8') as file:\n",
    "    WL = file.readlines()\n",
    "    \n",
    "print(WL[:10])"
   ]
  },
  {
   "cell_type": "markdown",
   "id": "16fcf2b4-b9e9-48e9-a652-0a85965d4073",
   "metadata": {},
   "source": [
    "# Do some cleaning"
   ]
  },
  {
   "cell_type": "code",
   "execution_count": 3,
   "id": "3ce196a7-36bd-4e12-9504-02ca12fd8cb0",
   "metadata": {},
   "outputs": [
    {
     "name": "stdout",
     "output_type": "stream",
     "text": [
      "['was der verfasser unter der wissenschaftslehre verstehe', 'wenn ich mir vorstelle es wären alle wahrheiten welche nur irgend ein mensch kennt oder einst gekannt hat in ein ganzes vereinigt z b in irgend einem einzigen buche zusammengeschrieben so würde ich einen solchen inbegriff derselben die summe des ganzen menschlichen wissens nennen so klein diese summe auch wäre verglichen mit dem ganz unermeßlichen gebiete aller wahrheiten die es an sich gibt die ihrem größten theile nach uns völlig unbekannt sind so wäre sie doch im verhältnisse zu der fassungskraft jedes einzelnen menschen eine sehr große ja für ihn zu große summe denn sicher ist selbst der fähigste kopf unter den günstigsten umständen und mit dem angestrengtesten fleiße außer stande sichich will nicht sagen alles sondern auch nur das wahrhaft wissenswürdige das jener inbegriff enthält das die vereinigte bemühung aller menschen bis auf den heutigen tag entdecket hat anzueignen wir müssen uns deßhalb zu einer theilung verstehen wir müssen da wir ein jeder bei weitem nicht alles was uns in irgend einem betrachte wissenswerth scheinen mag erlernen können der eine sich nur auf das eine der andere auf ein anderes ein jeder auf dasjenige verlegen was nach der eigenthümlichkeit unserer verhältnisse für uns das nöthigste oder das nützlichste unter dem nützlichen ist sowohl um diese auswahl des für uns wissenswürdigsten und die erlernung desselben uns zu erleichtern als auch für manche andere zwecke dürfte es zuträglich seyn das gesammte gebiet des menschlichen wissens oder vielmehr jenes der wahrheit überhaupt in mehre einzelne theile zu zerlegen und die einer jeden einzelnen gattung zugehörigen wahrheiten so viele es durch ihre merkwürdigkeit verdienen in eigenen büchern so zusammenzustellen und nöthigenfalls auch noch mit so viel anderen zu ihrem verständnisse oder beweise dienlichen sätzen in verbindung zu bringen daß sie die größte faßlichkeit und ueberzeugungskraft erhalten es sey mir also erlaubt jeden inbegriff von wahrhei', 'ten einer gewissen art der so beschaffen ist daß es der uns bekannte und merkwürdige theil derselben verdient auf die so eben erwähnte weise in einem eigenen buche vorgetragen zu werden eine wissenschaft zu nennen jenes buch selbst aber oder vielmehr ein jedes buch welches nur so beschaffen ist als wäre es von jemand in der bestimmten absicht geschrieben um alle bekannteb und für den leser merkwürdige wahrheiten einer wissenschaft darzustellen wie sie aufs leichteste verstanden und mit ueberzeugung angenommen werden könnten soll mir ein lehrbuch dieser wissenschaft heißen so werde ich also z b den inbegriff aller wahrheiten welche beschaffenheiten des raumes aussagen die wissenschaft vom räume oder die raumwissenschaft geometrie nennen weil diese sätze eine eigene gattung von wahrheiten bilden die es unwidersprechlich verdient daß wir den uns bekannten und für uns merkwürdigen theil derselben in eigenen büchern vortragen und mit beweisen versehen die ihnen die möglichste verständlichkeit und ueberzeugungskraft gewähren dergleichen bücher selbst werde ich lehrbücher der raumwissenschaft nennen', 'ich gestehe selbst daß die bedeutungen die ich den beiden worten wissenschaft und lehrbuch hier gebe nicht eben die allgemein üblichen sind allein ich darf auch beisetzen daß es gar keine allgemein angenommene bedeutung für diese beiden worte gebe und daß ich nicht ermangeln werde diese begriffsbestimmungen tiefer unten eigens zu rechtfertigen vor der hand sey es genug nur noch zwei andere bedeutungen des wortes wissenschaft aus dem grunde hier in erwähnung zu bringen weil ich mich ihrer wohl selbst an orten wo kein mißverstand zu besorgen ist bediene gar viele nämhch verstehen unter dem worte wissenschaft nicht eine bloße summe von wahrheiten einer gewissen art gleichviel in welcher ordnung sie stehen sondern sie denken sich unter der wissenschaft ein ganzes von sätzen in welchem die merkwürdigsten wahrheiten einer gewissen art schon so geordnet und mit gewissen anderen dergestalt verbunden vorkommen wie es bei einer schriftlichen darstellung derselben in einem buche geschehen muß damit der zweck der leichtesten auffassung und der festesten ueberzeugung erreicht werde in dieser bedeutung kommt das wort vor wenn wir z b von einem echt wissenschaftlichen vortrage sprechen denn da wollen wir durch den beisatz wissenschaftlich ohne zweifel nur andeuten daß dieser vortrag eine solche ordnung der sätze', 'befolge solche beweise liefere kurz solche einrichtungen habe wie wir sie etwa von einem recht zweckmäßigen lehrbuche verlangen ueberdieß nehmen wir das wort wissenschaft zuweilen auch gleichgeltend mit dem worte kennmiß und also in einer bedeutung die im gegensatz mit den beiden bisherigen welche man objectiv nennt eine subjective genannt werden könnte dieses geschieht wenn wir z b sagen ich habe wissenschaft von dieser sache denn da heißt wissenschaft offenbar nur so viel als kenntniß', 'begreiflich ist es nichts gleichgültiges aufweiche weise wir bei dem geschäfte der zerlegung des gesammten menschlichen wissens oder vielmehr des gesammten gebietes der wahrheit überhaupt in solche einzelne theile denen ich n den namen der wissenschaften gab und bei der darstellung dieser einzelnen wissenschaften in eigenen lehrbüchern zu werke gehen denn auch ohne den werth welchen das bloße wissen hat nur im geringsten zu überschätzen muß doch jeder einsehen daß es zahllose uebel gebe welche nur unwissenheit und irrthum über unser geschlecht verbreiten und daß wir ohne vergleich besser und glücklicher auf dieser erde wären wenn wir ein jeder uns gerade diejenigen kenntnisse beilegen könnten die uns in unsern verhältnissen die ersprießlichsten sind wäre nun erst das gesammte gebiet der wahrheit auf eine zweckmäßige weise in einzelne wissenschaften zerlegt und wären von jeder derselben gelungene lehrbücher vorhanden und in hinreichender anzahl überall anzutreffen so wäre zwar dadurch der zweck von dem ich rede noch eben nicht erreicht aber wir wären doch seiner erreichung besonders wenn sich auch noch einige andere einrichtungen hinzugesellten bedeutend näher gerückt denn nun würde a jeder der nur die gehörigen vorkenntnisse hat sich über jeden gegenstand worüber ihm belehrung nothwendig ist am sichersten und vollständigsten unterrichten und alles was man bisher darüber weiß erlernen können und b wenn alles was er in jenen lehrbüchern fände so faßlich und überzeugend als möglich dargestellt wäre so stände zu erwarten daß selbst in denjenigen theilen des menschlichen wissens wo sich die leidenschaft gegen die anerkennung der besseren wahrheit sträubet namentlich in den gebieten der religion und moral zweifel und irrthümer eine viel seltnere erscheinung würden zumal da c durch eine allgemeinere verbreitung des studiums gewisser wissenschaften nach lehrbüchern die einen höheren grad der vollkommenheit hätten auch eine viel größere fertigkeit im richtigen denken hervorgebracht würde da endlich d die entdeckungen die wir bisher gemacht haben wenn sie erst allgemeiner bekannt unter uns würden uns sicher noch zu', 'vielen andern entdeckungen führen würden so begreift man daß der segen solcher anstalten statt im verlaufe der zeiten sich zu vermindern je länger je ausgebreiteter werden müßte', 'durch einiges nachdenken muß es wohl möglich seyn die regeln nach denen wir bei diesem geschäfte der zerlegung des gesammten gebietes der wahrheit in einzelne wissenschaften und bei der abfassung der für eine jede gehörigen lehrbücher vorgehen müssen kennen zu lernen auch ist nicht zu bezweifeln daß es der inbegriff dieser regeln verdiene selbst schon als eine eigene wissenschaft angesehen zu werden weil es gewiß seinen nutzen haben wird wenn wir die merkwürdigsten dieser regeln in einem eigenen buche zusammenstellen und hier so ordnen und mit solchen beweisen versehen daß sie ein jeder verstehen und mit ueberzeugung annehmen könne ich erlaube mir also dieser wissenschaft weil sie diejenige ist welche uns andere wissenschaften eigentlich nur ihre lehrbücher darstellen lehret im deutschen den namen wissenschaftslehre zu geben und so verstehe ich denn unter der wissenschaftslehre den inbegriff aller derjenigen regeln nach denen wir bei dem geschäfte der abtheilung des gesammten gebietes der wahrheit in einzelne wissenschaften und bei der darstellung derselben in eigenen lehrbüchern vorgehen müssen wenn wir recht zweckmäßig vorgehen wollen da es sich aber im grunde schon von selbst verstehet daß eine wissenschaft welche uns lehren will wie wir die wissenschaften in lehrbüchern darstellen sollen uns auch belehren müsse wie wir das ganze gebiet der wahrheit in einzelne wissenschaften zerlegen können indem es nur dann erst möglich wird eine wissenschaft in einem lehrbuche gehörig darzustellen wenn man die grenzen des gebietes dieser wissenschaft richtig bestimmt hat so könnten wir unsere erklärung der wissenschaftslehre kürzer auch so fassen daß sie diejenige wissenschaft sey welche uns anweise wie wir die wissenschaften in zweckmäßigen lehrbüchern darstellen sollen', 'rechtfertigung dieses begriffes und seiner bezeichnung', 'da ich so eben selbst behauptete daß es nicht gleichgültig sey wie viele und welche wissenschaften man in die welt einführe so wird es sich geziemen daß ich mich auch über die wissenschaft die ich hier unter dem']\n"
     ]
    }
   ],
   "source": [
    "import string\n",
    "import re\n",
    "\n",
    "WL = [line.lower().strip() for line in WL] # removes \"\\n\" and extra spaces\n",
    "\n",
    "WL = [re.sub(r'[^\\w\\s]', '', line) for line in WL] # remove punctuation\n",
    "\n",
    "WL = [line.replace('_', '') for line in WL] # remove underscores\n",
    "\n",
    "WL = [re.sub(r'(\\w+)-\\s+(\\w+)', r'\\1\\2', line) for line in WL] # removes line-break hyphens\n",
    "\n",
    "WL = [re.sub(r'(\\w+)-(\\w+)', r'\\1\\2', line) for line in WL] #merges compounds\n",
    "\n",
    "WL = [re.sub(r'[§|*•–—0-9]+', ' ', line) for line in WL] # removes: section signs (§), vertical bars (|), bullets, dashes plus digits (e.g. “1.”, “2a”, “1850”)\n",
    "\n",
    "WL = [re.sub(r'\\b[a-z]\\.', ' ', line) for line in WL] # removes “a.”, “b.”, “z.”, etc., but keeps normal abbreviations like “u.a.” or “z.b.” mostly intact.\n",
    "\n",
    "WL = [re.sub(r'\\s+', ' ', line).strip() for line in WL] # removes double spaces\n",
    "\n",
    "WL = [line for line in WL if line.strip()] # removes lines consisting of only spaces\n",
    "\n",
    "\n",
    "print(WL[:10])"
   ]
  },
  {
   "cell_type": "markdown",
   "id": "96337644-54d8-473a-8cab-5e0f19d5ec6d",
   "metadata": {},
   "source": [
    "# Tokenize"
   ]
  },
  {
   "cell_type": "code",
   "execution_count": 4,
   "id": "19e75f0b-d5ff-47ff-a03b-310dacc28242",
   "metadata": {},
   "outputs": [
    {
     "name": "stdout",
     "output_type": "stream",
     "text": [
      "['was', 'der', 'verfasser', 'unter', 'der', 'wissenschaftslehre', 'verstehe', 'wenn', 'ich', 'mir', 'vorstelle', 'es', 'wären', 'alle', 'wahrheiten', 'welche', 'nur', 'irgend', 'ein', 'mensch', 'kennt', 'oder', 'einst', 'gekannt', 'hat', 'in', 'ein', 'ganzes', 'vereinigt', 'in', 'irgend', 'einem', 'einzigen', 'buche', 'zusammengeschrieben', 'so', 'würde', 'ich', 'einen', 'solchen', 'inbegriff', 'derselben', 'die', 'summe', 'des', 'ganzen', 'menschlichen', 'wissens', 'nennen', 'so']\n",
      "Total tokens: 743222\n"
     ]
    }
   ],
   "source": [
    "# Only unigrams! It might be valuable to add bigrams based on domain knowledge (e.g. \"an sich\", \"stehen unter\"). Maybe even trigrams (\"Satz an Sich\", \"Vorstellung an Sich\")?\n",
    "\n",
    "words_WL = []\n",
    "\n",
    "for sent in WL:\n",
    "    for word in sent.split():       # split sentence into words\n",
    "        if len(word) > 1:           # keep words longer than 1 character\n",
    "            words_WL.append(word)\n",
    "\n",
    "print(words_WL[:50])\n",
    "print(f\"Total tokens: {len(words_WL)}\")"
   ]
  },
  {
   "cell_type": "markdown",
   "id": "ac348433-22c2-4ada-937f-b2c9a4803062",
   "metadata": {},
   "source": [
    "# Create costum stop words list"
   ]
  },
  {
   "cell_type": "code",
   "execution_count": 5,
   "id": "c5ab3705-fc44-4709-a49a-3bd0bd69a6a8",
   "metadata": {},
   "outputs": [
    {
     "name": "stdout",
     "output_type": "stream",
     "text": [
      "['die', 'der', 'daß', 'in', 'und', 'wir', 'zu', 'nicht', 'so', 'ist', 'von', 'es', 'den', 'auch', 'eine', 'ein', 'sich', 'nur', 'wenn', 'oder', 'als', 'das', 'sie', 'man', 'dem', 'einer', 'aus', 'sind', 'vorstellung', 'auf', 'werden', 'uns', 'mit', 'des', 'aber', 'vorstellungen', 'ich', 'durch', 'noch', 'wie', 'hat', 'seyn', 'einem', 'bei', 'welche', 'dieser', 'selbst', 'sätze', 'diese', 'einen', 'er', 'haben', 'sey', 'wird', 'für', 'eben', 'was', 'an', 'eines', 'denn', 'können', 'doch', 'schon', 'sondern', 'unter', 'satz', 'kann', 'nach', 'also', 'wahrheit', 'art', 'alle', 'etwas', 'andern', 'im', 'wahr', 'begriff', 'dieß', 'hier', 'um', 'dieses', 'andere', 'weil', 'ob', 'begriffe', 'gegenstand', 'wahrheiten', 'nun', 'beschaffenheit', 'sätzen', 'immer', 'derselben', 'müssen', 'habe', 'diesen', 'wäre', 'da', 'wohl', 'keine', 'zur', 'bloß', 'zwischen', 'wissenschaft', 'urtheile', 'muß', 'gibt', 'nämlich', 'ihnen', 'unserer', 'ihm', 'diesem', 'solche', 'einige', 'sehr', 'ohne', 'gar', 'zwei', 'ihrer', 'sagen', 'soll', 'einander', 'gewisse', 'gegenstände', 'urtheil', 'zb', 'jeder', 'leser', 'deren', 'zeichen', 'mir', 'dann', 'nichts', 'erst', 'erklärung', 'solchen', 'sollen', 'ganz', 'bald', 'ihre', 'bedeutung', 'kein', 'gewissen', 'verhältniß', 'allein', 'theile', 'oft', 'ihr', 'nennen', 'welchen', 'verhältnisse', 'form', 'ja', 'jene', 'beschaffenheiten', 'wo', 'werde', 'satze', 'denen', 'entweder', 'seiner', 'zwar', 'machen', 'grund', 'unsere', 'könne', 'logik', 'über', 'zeit', 'ihn', 'irgend', 'jedes', 'beiden', 'lassen', 'jede', 'wollen', 'läßt', 'satzes', 'viel', 'mehre', 'worte', 'allen', 'finden', 'falsch', 'geben', 'statt', 'gebe', 'wenigstens', 'mehr', 'anderes', 'überhaupt', 'anderen', 'jeden', 'welches', 'wirklich', 'vor', 'wesen', 'zum', 'könnte', 'wahrscheinlichkeit', 'folge', 'weise', 'endlich', 'gegebenen', 'denken', 'dürfen', 'will', 'wissen', 'heißt', 'würde', 'keinen', 'viele', 'müsse', 'seine', 'fällen', 'bloße', 'welchem', 'jener', 'stehen', 'gleich', 'inbegriff', 'menschen', 'menge', 'nothwendig', 'lehren', 'wären', 'indem', 'einzelnen', 'welcher', 'zusammengesetzt', 'gegenständlichkeit', 'unterschied', 'frage', 'anderer', 'möglich', 'wieder', 'gegenständen', 'gewiß', 'unser', 'desselben', 'falle', 'ganzen', 'aller', 'bloßen', 'eigenen', 'dessen', 'ersten', 'urtheilen', 'je', 'einmal', 'mehren', 'beweise', 'fall', 'verbindung', 'dagegen', 'zuweilen', 'schlüsse', 'begriffen', 'dh', 'dgl', 'grad', 'grunde', 'stelle', 'am', 'alles', 'sollte', 'wort', 'theil', 'erklären', 'gegenstande', 'solcher', 'ursache', 'etwa', 'dinge', 'arten', 'schlußsatz', 'lesern', 'müßte', 'dadurch', 'gründe', 'ihren', 'usw', 'darum', 'jetzt', 'sonst', 'ihrem', 'nie', 'begriffes', 'zugleich', 'offenbar', 'einzigen', 'unterscheiden', 'leicht', 'erkenntniß', 'regeln', 'nöthig', 'erkennen', 'enthalten', 'bestimmung', 'diejenigen', 'sowohl', 'namen', 'ganze', 'vielleicht', 'kennen', 'bekannt', 'sagt', 'eintheilung', 'dergleichen', 'gerade', 'wissenschaften', 'unsern', 'weniger', 'verschiedenen', 'drei', 'jenen', 'gegenstandes', 'behaupten', 'theilen', 'gewisser', 'dürfte', 'beweis', 'unserm', 'denselben', 'bestimmen', 'behauptung', 'daseyn', 'lehrbuche', 'ableiten', 'sw', 'anmerk', 'weder', 'bestimmt', 'somit', 'bestandtheile', 'beide', 'eigentlich', 'genug', 'seele', 'verstehen', 'übrigen', 'hinsichtlich', 'daher', 'anschauung', 'recht', 'zweiten', 'jedem', 'eigene', 'erste', 'thun', 'einerlei', 'that', 'besonders', 'ableitbar', 'heißen', 'macht', 'gleichwohl', 'log', 'jemand', 'bisher', 'hr', 'zuversicht', 'neg', 'anders', 'betrachtung', 'mensch', 'vielmehr', 'kommt', 'betrachten', 'bestehet', 'dasselbe', 'beispiel', 'scheint', 'verschiedene', 'nehmen', 'worden', 'bewußtseyn', 'gehören', 'könnten', 'anzahl', 'glaube', 'sinne', 'buche', 'dasjenige', 'liegt', 'anschauungen', 'folgen', 'wer', 'hätte', 'sämmtlichen', 'gott', 'würden', 'ferner', 'darstellung', 'bereits', 'schließen', 'dieselben', 'erklärungen', 'däucht', 'darin', 'non', 'richtig', 'mittel', 'zwecke', 'aussagen', 'wirkung', 'manche', 'beispiele', 'unmittelbar', 'wahren', 'daraus', 'sofern', 'kommen', 'demselben', 'sinn', 'ausdruck', 'setzen', 'fehler', 'folgt', 'seinem', 'freilich', 'damit', 'zweck', 'einzige', 'gedanken', 'wahre', 'mag', 'ordnung', 'fast', 'cajus', 'beweisen', 'allerdings', 'obgleich', 'zweifel', 'regel', 'jenes', 'aufmerksamkeit', 'lehre', 'umstände', 'unserem', 'bezeichnen', 'stehet', 'bedienen', 'vorkommen', 'letzteren', 'müßten', 'subject', 'paar', 'seinen', 'buch', 'verfahren', 'gegen', 'durchaus', 'miteinander', 'denjenigen', 'gesagt', 'jenem', 'folgende', 'verneinung', 'derjenigen', 'logiker', 'objectiven', 'erscheinen', 'vorstellen', 'möglichkeit', 'worten', 'dieselbe', 'deßhalb', 'geschehen', 'ansehen', 'unsers', 'gattung', 'annehmen', 'keineswegs', 'war', 'nenne', 'schluß', 'fragen', 'letztere', 'keiner', 'ergibt', 'grade', 'deutlich', 'hinsicht', 'bilden', 'umstand', 'bestandtheil', 'gleichgeltend', 'glauben', 'gilt', 'sache', 'hätten', 'wurde', 'zukommt', 'inbegriffe', 'sicher', 'folgenden', 'findet', 'sprechen', 'veränderung', 'unendliche']\n"
     ]
    }
   ],
   "source": [
    "from collections import Counter\n",
    "\n",
    "# Count frequency of each word\n",
    "word_counts = Counter(words_WL)\n",
    "\n",
    "# Get 500 most common words\n",
    "\n",
    "top_words = word_counts.most_common(500)\n",
    "\n",
    "# Extract only the words (ignore counts)\n",
    "top_words_list = [word for word, count in top_words]\n",
    "\n",
    "print(top_words_list)\n",
    "\n",
    "#From:\n",
    "# print(top_words_list), manually divide the stop words from the important words, based on domain knowledge\n",
    "\n",
    "stopwords_WL = ['die', 'der', 'daß', 'in', 'und', 'wir', 'zu', 'nicht', 'so', 'ist', 'von', 'es', 'den', 'auch', 'eine', 'ein', 'nur', 'wenn', \n",
    "                'oder', 'als', 'das', 'sie', 'man', 'dem', 'einer', 'aus', 'sind', 'auf', 'werden', 'uns', 'mit', 'des', 'aber', 'ich', 'durch', \n",
    "                'noch', 'wie', 'einem', 'bei', 'welche', 'dieser', 'selbst', 'diese', 'einen', 'er', 'wird', 'für', 'eben', 'was', 'eines', 'denn', \n",
    "                'können', 'doch', 'schon', 'sondern', 'kann', 'nach', 'also', 'andern', 'im', 'um', 'andere', 'ob', 'nun', 'derselben', 'wäre', \n",
    "                'keine', 'wohl', 'zur', 'zwischen', 'nämlich', 'ihnen', 'unserer', 'ihm', 'solche', 'einige', 'sehr', 'ohne', 'gar', 'zwei', 'ihrer', \n",
    "                'sagen', 'gewisse', 'einander', 'leser', 'deren', 'zeichen', 'mir', 'dann', 'nichts', 'erst', 'solchen', 'ganz', 'bald', 'ihre', \n",
    "                'gewissen', 'kein', 'allein', 'oft', 'ihr', 'nennen', 'welchen', 'ja', 'jene', 'wo', 'werde', 'denen', 'entweder', 'seiner', 'zwar', \n",
    "                'machen', 'unsere', 'ihn', 'irgend', 'beiden', 'lassen', 'läßt', 'statt', 'wenigstens', 'mehr', 'anderes', 'überhaupt', 'anderen', \n",
    "                'zum', 'weise', 'vor', 'gegebenen', 'will', 'heißt', 'würde', 'keinen', 'müsse', 'seine', 'fällen', 'welchem', 'jener', \n",
    "                'wären', 'indem', 'welcher', 'dgl', 'anderer', 'wieder', 'unser', 'desselben', 'falle', 'dessen', 'dagegen', 'zuweilen', \n",
    "                'am', 'solcher', 'etwa', 'ihren', 'denselben', 'unserm', 'log', 'hr', 'neg', 'kommt', 'dasjenige', 'wer', 'ferner', 'bereits', \n",
    "                'dieselben', 'darin', 'non', 'daraus', 'demselben', 'sofern', 'denjenigen', 'derjenigen', 'jenem', 'war', 'vom', 'mich'\n",
    "               ]\n",
    "                \n",
    "# Domain knowledge: words I want to leave in because I know they are important. I collect them, so that I can review my choices, or in case I later want to use a standard stop words list, so that I can put them back in.\n",
    "# For example: logical vocabulary, ethical terms, terms that have to do with (conceptual) order\n",
    "\n",
    "notstopwords_WL = ['sich', 'vorstellung', 'vorstellungen', 'hat', 'seyn', 'sätze', 'haben', 'sey', 'an', 'unter', 'satz', 'wahrheit', 'art', 'alle', \n",
    "                   'etwas', 'begriff', 'dieß', 'wahr', 'hier', 'dieses', 'weil', 'begriffe', 'gegenstand', 'wahrheiten', 'beschaffenheit', 'sätzen', \n",
    "                   'immer', 'habe', 'diesen', 'müssen', 'da', 'bloß', 'wissenschaft', 'urtheile', 'muß', 'gibt', 'diesem', 'gegenstände', 'soll', \n",
    "                   'urtheil', 'jeder', 'erklärung', 'sollen', 'bedeutung', 'verhältniß', 'theile', 'verhältnisse', 'form', 'beschaffenheiten', \n",
    "                   'satze', 'grund', 'könne', 'logik', 'über', 'jede', 'zeit', 'jedes', 'wollen', 'satzes', 'viel', 'mehre', 'worte', 'allen', \n",
    "                   'finden', 'falsch', 'geben', 'gebe', 'jeden', 'welches', 'wirklich', 'wahrscheinlichkeit', 'wesen', 'könnte', 'folge', 'endlich', \n",
    "                   'denken', 'dürfen', 'wissen', 'viele', 'bloße', 'stehen', 'inbegriff', 'menschen', 'gleich', 'menge', 'nothwendig', 'lehren', \n",
    "                   'zusammengesetzt', 'gegenständlichkeit', 'einzelnen', 'unterschied', 'frage', 'möglich', 'gegenständen', 'gewiß', 'ganzen', \n",
    "                   'aller', 'bloßen', 'eigenen', 'ersten', 'urtheilen', 'einmal', 'beweise', 'je', 'mehren', 'fall', 'verbindung', 'schlüsse', \n",
    "                   'begriffen', 'grad', 'grunde', 'stelle', 'alles', 'sollte', 'wort', 'erklären', 'theil', 'gegenstande', 'ursache', 'schlußsatz', \n",
    "                   'dinge', 'arten', 'lesern', 'müßte', 'dadurch', 'gründe', 'darum', 'jetzt', 'sonst', 'ihrem', 'nie', 'begriffes', 'zugleich', \n",
    "                   'offenbar', 'unterscheiden', 'einzigen', 'leicht', 'erkenntniß', 'regeln', 'nöthig', 'erkennen', 'bestimmung', 'diejenigen', \n",
    "                   'enthalten', 'namen', 'ganze', 'vielleicht', 'kennen', 'eintheilung', 'sowohl', 'bekannt', 'wissenschaften', 'sagt', \n",
    "                   'dergleichen', 'gerade', 'unsern', 'verschiedenen', 'weniger', 'jenen', 'drei', 'gegenstandes', 'behaupten', 'gewisser', \n",
    "                   'anmerk', 'dürfte', 'theilen', 'beweis', 'bestimmen', 'behauptung', 'daseyn', 'lehrbuche', 'ableiten', 'bestandtheile', 'weder', \n",
    "                   'somit', 'bestimmt', 'beide', 'eigentlich', 'verstehen', 'genug', 'seele', 'übrigen', 'anschauung', 'daher', 'hinsichtlich', \n",
    "                   'zweiten', 'jedem', 'eigene', 'recht', 'einerlei', 'erste', 'thun', 'that', 'besonders', 'ableitbar', 'heißen', 'gleichwohl', \n",
    "                   'macht', 'jemand', 'bisher', 'zuversicht', 'betrachtung', 'anders', 'vielmehr', 'betrachten', 'mensch', 'bestehet', \n",
    "                   'dasselbe', 'beispiel', 'verschiedene', 'scheint', 'nehmen', 'worden', 'bewußtseyn', 'gehören', 'könnten', 'anzahl', 'glaube', \n",
    "                   'sinne', 'buche', 'liegt', 'anschauungen', 'hätte', 'folgen', 'sämmtlichen', 'gott', 'würden', 'darstellung', \n",
    "                   'schließen', 'erklärungen', 'däucht', 'zwecke', 'richtig', 'aussagen', 'beispiele', 'manche', 'wirkung', 'mittel', 'unmittelbar', \n",
    "                   'wahren', 'sinn', 'ausdruck', 'kommen', 'setzen', 'fehler', 'folgt', 'seinem', 'freilich', 'damit', 'einzige', 'gedanken', \n",
    "                   'zweck', 'wahre', 'ordnung', 'mag', 'fast', 'obgleich', 'cajus', 'beweisen', 'allerdings', 'zweifel', 'aufmerksamkeit', 'regel', \n",
    "                   'jenes', 'umstände', 'lehre', 'unserem', 'bezeichnen', 'vorkommen', 'stehet', 'letzteren', 'bedienen', 'müßten', 'paar', 'seinen', \n",
    "                   'miteinander', 'durchaus', 'verfahren', 'folgende', 'buch', 'gesagt', 'verneinung', 'logiker', 'objectiven', 'erscheinen', \n",
    "                   'vorstellen', 'möglichkeit', 'worten', 'geschehen', 'dieselbe', 'deßhalb', 'keineswegs', 'ansehen', 'unsers', 'gattung', \n",
    "                   'annehmen', 'keiner', 'nenne', 'fragen', 'letztere', 'gegen', 'ergibt', 'schluß', 'grade', 'deutlich', 'hinsicht', 'bilden', \n",
    "                   'umstand', 'bestandtheil', 'gleichgeltend', 'glauben', 'sache', 'hätten', 'wurde', 'gilt', 'zukommt', 'inbegriffe', 'sicher', \n",
    "                   'folgenden', 'findet', 'veränderung', 'unendliche', 'sprechen', 'geschieht', 'vielen', 'vermögen'\n",
    "                  ]\n",
    "\n",
    "# Manually add other noise that I come accross during the cleaning process that didn't get filtered out\n",
    "noise_WL = ['aa', 'aacb', 'aao', 'ab', 'abc', 'abcd', 'ac', 'acb']\n",
    "\n",
    "   \n",
    "#print(stopwords_WL)\n",
    "#print(notstopwords_WL)\n",
    "#print(noise_WL)"
   ]
  },
  {
   "cell_type": "markdown",
   "id": "actual-emperor",
   "metadata": {},
   "source": [
    "# Remove stop words, noise, and infrequent words"
   ]
  },
  {
   "cell_type": "code",
   "execution_count": 8,
   "id": "concrete-story",
   "metadata": {},
   "outputs": [
    {
     "name": "stdout",
     "output_type": "stream",
     "text": [
      "Number of words removed: 15684\n",
      "['zusammengeschrieben', 'unermeßlichen', 'fähigste', 'kopf', 'angestrengtesten', 'fleiße', 'sichich', 'wissenswürdige', 'vereinigte', 'wissenswerth', 'nützlichste', 'wissenswürdigsten', 'dienlichen', 'faßlichkeit', 'wahrhei', 'bekannteb', 'nämhch', 'festesten', 'befolge', 'liefere', 'kennmiß', 'zahllose', 'vergleich', 'ersprießlichsten', 'gelungene', 'hinzugesellten', 'gerückt', 'vollständigsten', 'faßlich', 'sträubet', 'seltnere', 'studiums', 'segen', 'ausgebreiteter', 'anweise', 'einführe', 'wende', 'inhaltsleer', 'bestehendes', 'wohlthätig', 'regt', 'schaftlicheri', 'vorschreiben', 'reiflicher', 'bedünken', 'unterrichtbezwecken', 'ertheilung', 'festhaltung', 'begriffenes', 'eingeprägt']\n"
     ]
    }
   ],
   "source": [
    "min_f = 5\n",
    "WL_sent_filtered = []\n",
    "\n",
    "for sent in WL:\n",
    "    temp = []\n",
    "    for word in sent.split():\n",
    "         if word not in stopwords_WL and word not in noise_WL and word_counts.get(word, 0) >= min_f:     \n",
    "            temp.append(word)\n",
    "    WL_sent_filtered.append(temp)\n",
    "\n",
    "#print(WL_sent_filtered[:5])\n",
    "#print(WL_sent_filtered[-5:])\n",
    "\n",
    "############ Check which words are filtered out by requiring this frequency\n",
    "\n",
    "filtered_out_words = [word for word, count in word_counts.items() if count < min_f]\n",
    "\n",
    "# See how many were removed\n",
    "print(f\"Number of words removed: {len(filtered_out_words)}\")\n",
    "\n",
    "# Print first 50 filtered-out words\n",
    "print(filtered_out_words[:50])\n",
    "\n",
    "# --> Number of words removed: 15684 for min_f = 5. It's quite a lot, but I keep it like this for now.\n",
    "\n",
    "############ Check whether the remaining words make sense and how many they are\n",
    "\n",
    "all_words = []\n",
    "\n",
    "for sent in WL_sent_filtered:\n",
    "    all_words.extend(sent)\n",
    "\n",
    "all_words = list(set(all_words)) #removes duplicates (set) and turns into a list\n",
    "\n",
    "all_words.sort()\n",
    "\n",
    "#print(all_words[:1000])\n",
    "#print(len(all_words)) # around 6000 makes sense given the data and quite heavy filtering\n",
    "\n",
    "#################### I'm not sure whether I want to do stemming, for now I don't do it"
   ]
  },
  {
   "cell_type": "markdown",
   "id": "macro-guatemala",
   "metadata": {},
   "source": [
    "# Save data for next notebook"
   ]
  },
  {
   "cell_type": "code",
   "execution_count": 10,
   "id": "micro-indianapolis",
   "metadata": {},
   "outputs": [],
   "source": [
    "import pickle\n",
    "\n",
    "with open('WL_sent_filtered.pkl', 'wb') as f:\n",
    "    pickle.dump(WL_sent_filtered, f)\n",
    "\n",
    "with open('all_words.pkl', 'wb') as f:\n",
    "    pickle.dump(all_words, f)\n",
    "\n",
    "#with open('word_counts.pkl', 'wb') as f:\n",
    "#    pickle.dump(word_counts, f)\n"
   ]
  }
 ],
 "metadata": {
  "kernelspec": {
   "display_name": "Python 3 (ipykernel)",
   "language": "python",
   "name": "python3"
  },
  "language_info": {
   "codemirror_mode": {
    "name": "ipython",
    "version": 3
   },
   "file_extension": ".py",
   "mimetype": "text/x-python",
   "name": "python",
   "nbconvert_exporter": "python",
   "pygments_lexer": "ipython3",
   "version": "3.10.16"
  },
  "vscode": {
   "interpreter": {
    "hash": "f06e3119828c145c4028f0fee76387e74b42caa79bccb80b4ba64fe213bb9e06"
   }
  }
 },
 "nbformat": 4,
 "nbformat_minor": 5
}
